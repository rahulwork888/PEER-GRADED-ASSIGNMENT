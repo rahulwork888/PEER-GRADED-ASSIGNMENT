{
  "metadata": {
    "language_info": {
      "codemirror_mode": {
        "name": "python",
        "version": 3
      },
      "file_extension": ".py",
      "mimetype": "text/x-python",
      "name": "python",
      "nbconvert_exporter": "python",
      "pygments_lexer": "ipython3",
      "version": "3.8"
    },
    "kernelspec": {
      "name": "python",
      "display_name": "Pyolite",
      "language": "python"
    }
  },
  "nbformat_minor": 4,
  "nbformat": 4,
  "cells": [
    {
      "cell_type": "markdown",
      "source": "# My Jupyter Notebook on IBM Watson Studio",
      "metadata": {}
    },
    {
      "cell_type": "markdown",
      "source": "**RAHUL AGARWAL**",
      "metadata": {}
    },
    {
      "cell_type": "markdown",
      "source": "I AM STUDENT",
      "metadata": {}
    },
    {
      "cell_type": "markdown",
      "source": "_I am interested in data science because this leads us to the future , and i want a fixed place in the future. That,s why i am interested in data science_",
      "metadata": {}
    },
    {
      "cell_type": "markdown",
      "source": "### IN THE BELOW CODE I WILL BE SHARING MY MONTHLY EXPENSES DETAILS",
      "metadata": {}
    },
    {
      "cell_type": "code",
      "source": "800+2500+1000",
      "metadata": {
        "trusted": true
      },
      "execution_count": 7,
      "outputs": [
        {
          "execution_count": 7,
          "output_type": "execute_result",
          "data": {
            "text/plain": "4300"
          },
          "metadata": {}
        }
      ]
    },
    {
      "cell_type": "markdown",
      "source": "  * SO HERE IS MY PEER GRADED ASSIGNMENT",
      "metadata": {}
    },
    {
      "cell_type": "markdown",
      "source": "USE `BACK TICKS` FOR `SYNTAX HIGHLIGHTING`",
      "metadata": {}
    },
    {
      "cell_type": "markdown",
      "source": "`CONSISTENCY` IS THE `KEY` JUST DONT BE ~~TOO LAZY~~",
      "metadata": {}
    },
    {
      "cell_type": "code",
      "source": "",
      "metadata": {},
      "execution_count": null,
      "outputs": []
    }
  ]
}